{
 "cells": [
  {
   "cell_type": "code",
   "execution_count": 6,
   "id": "0e53ad92-eab3-4b8b-991c-5e913f464efd",
   "metadata": {},
   "outputs": [],
   "source": [
    "# Setting pyspark environments variabel\n",
    "import os\n",
    "os.environ['SPARK_HOME'] = r\"C:\\Users\\User\\Downloads\\spark-3.5.1-bin-hadoop3\"\n",
    "os.environ['PYSPARK_DRIVER_PYTHON'] = 'jupyter'\n",
    "os.environ['PYSPARK_DRIVER_PYTHON_OPTS'] = 'lab'\n",
    "os.environ['PYSPARK_PYTHON'] = 'python'"
   ]
  },
  {
   "cell_type": "code",
   "execution_count": 7,
   "id": "c6aee9eb-f803-4641-8167-e8406c9e8dc3",
   "metadata": {},
   "outputs": [],
   "source": [
    "# Import Pyspark\n",
    "from pyspark.sql import SparkSession\n",
    "from pyspark import SparkContext\n"
   ]
  },
  {
   "cell_type": "code",
   "execution_count": 14,
   "id": "6d250d99-321c-4e0e-b844-e5ed002bbaba",
   "metadata": {},
   "outputs": [],
   "source": [
    "# Create Spark Session\n",
    "spark = SparkSession.builder.appName(\"RDD-Test\").getOrCreate()\n"
   ]
  },
  {
   "cell_type": "code",
   "execution_count": 15,
   "id": "9ec32ba9-9acb-4592-9556-27b577dba964",
   "metadata": {},
   "outputs": [
    {
     "data": {
      "text/html": [
       "\n",
       "            <div>\n",
       "                <p><b>SparkSession - in-memory</b></p>\n",
       "                \n",
       "        <div>\n",
       "            <p><b>SparkContext</b></p>\n",
       "\n",
       "            <p><a href=\"http://HP:4044\">Spark UI</a></p>\n",
       "\n",
       "            <dl>\n",
       "              <dt>Version</dt>\n",
       "                <dd><code>v3.5.1</code></dd>\n",
       "              <dt>Master</dt>\n",
       "                <dd><code>local[*]</code></dd>\n",
       "              <dt>AppName</dt>\n",
       "                <dd><code>RDD-Demo</code></dd>\n",
       "            </dl>\n",
       "        </div>\n",
       "        \n",
       "            </div>\n",
       "        "
      ],
      "text/plain": [
       "<pyspark.sql.session.SparkSession at 0x1d710344110>"
      ]
     },
     "execution_count": 15,
     "metadata": {},
     "output_type": "execute_result"
    }
   ],
   "source": [
    "spark"
   ]
  },
  {
   "cell_type": "code",
   "execution_count": 19,
   "id": "bace36f2-90d0-4d84-8926-5ae21d74fcdc",
   "metadata": {},
   "outputs": [],
   "source": [
    "numbers = [1,2,3,4,5]\n",
    "rdd = spark.sparkContext.parallelize(numbers)"
   ]
  },
  {
   "cell_type": "code",
   "execution_count": 20,
   "id": "5ea50c0a-11da-4c09-a3be-6bfff63f6df6",
   "metadata": {},
   "outputs": [
    {
     "data": {
      "text/plain": [
       "[1, 2, 3, 4, 5]"
      ]
     },
     "execution_count": 20,
     "metadata": {},
     "output_type": "execute_result"
    }
   ],
   "source": [
    "# Collect action : Retrieve all element of the rdd\n",
    "rdd.collect()"
   ]
  },
  {
   "cell_type": "code",
   "execution_count": 35,
   "id": "bc470e8c-3314-4c53-9bf8-3e8c0bdc02a3",
   "metadata": {},
   "outputs": [],
   "source": [
    "# Create an RDD from a list of tuples\n",
    "data = [(\"Andi\" , 20),(\"Rudi\",21),(\"Arip\",18),(\"Juki\",29)]\n",
    "rdd = spark.sparkContext.parallelize(data)"
   ]
  },
  {
   "cell_type": "code",
   "execution_count": 22,
   "id": "52d3459d-ea15-4333-8ef4-99b7d14707b9",
   "metadata": {},
   "outputs": [
    {
     "name": "stdout",
     "output_type": "stream",
     "text": [
      "All Elements of the rdd :  [('Andi', 20), ('Rudi', 21), ('Arip', 18), ('Juki', 29)]\n"
     ]
    }
   ],
   "source": [
    "# Collect action : Retrieve all element of the rdd\n",
    "print(\"All Elements of the rdd : \", rdd.collect())"
   ]
  },
  {
   "cell_type": "code",
   "execution_count": 24,
   "id": "6f088a91-63fb-404d-9add-5c03ec19889c",
   "metadata": {},
   "outputs": [
    {
     "name": "stdout",
     "output_type": "stream",
     "text": [
      "Total number of element in rdd :  4\n"
     ]
    }
   ],
   "source": [
    "# Count action : Count the number of elements in the RDD\n",
    "count = rdd.count()\n",
    "print(\"Total number of element in rdd : \",count)"
   ]
  },
  {
   "cell_type": "code",
   "execution_count": 25,
   "id": "82008b10-f446-448b-8a10-52db361a7277",
   "metadata": {},
   "outputs": [
    {
     "name": "stdout",
     "output_type": "stream",
     "text": [
      "THe first two elements of the rdd :  [('Andi', 20), ('Rudi', 21)]\n"
     ]
    }
   ],
   "source": [
    "# Take actions : Retreive the n elements of the RDD\n",
    "taken_elements = rdd.take(2)\n",
    "print(\"THe first two elements of the rdd : \",taken_elements)"
   ]
  },
  {
   "cell_type": "code",
   "execution_count": 45,
   "id": "18d9c7e7-3728-4333-b3f9-a7c7d7e3e53e",
   "metadata": {},
   "outputs": [],
   "source": [
    "# Foreach Action : pirnt each elements of the rdd\n",
    "rdd.foreach(lambda x : print(x))"
   ]
  },
  {
   "cell_type": "code",
   "execution_count": 41,
   "id": "24c1db83-1043-4918-ba0d-e326afa825de",
   "metadata": {},
   "outputs": [],
   "source": [
    "#Map transformation : Convert name to uppercase\n",
    "mapped_rdd = rdd.map(lambda x : (x[0].upper(), x[1]))"
   ]
  },
  {
   "cell_type": "code",
   "execution_count": 43,
   "id": "eb9f37dc-ef18-4a04-9755-b3988cc298cb",
   "metadata": {},
   "outputs": [
    {
     "name": "stdout",
     "output_type": "stream",
     "text": [
      "rdd with uppercase name :  [('ANDI', 20), ('RUDI', 21), ('ARIP', 18), ('JUKI', 29)]\n"
     ]
    }
   ],
   "source": [
    "result = mapped_rdd.collect()\n",
    "print(\"rdd with uppercase name : \",result)"
   ]
  },
  {
   "cell_type": "code",
   "execution_count": null,
   "id": "cc2ade76-f6f0-4ebd-ad78-255e41350b56",
   "metadata": {},
   "outputs": [],
   "source": []
  }
 ],
 "metadata": {
  "kernelspec": {
   "display_name": "Python 3 (ipykernel)",
   "language": "python",
   "name": "python3"
  },
  "language_info": {
   "codemirror_mode": {
    "name": "ipython",
    "version": 3
   },
   "file_extension": ".py",
   "mimetype": "text/x-python",
   "name": "python",
   "nbconvert_exporter": "python",
   "pygments_lexer": "ipython3",
   "version": "3.11.9"
  }
 },
 "nbformat": 4,
 "nbformat_minor": 5
}
